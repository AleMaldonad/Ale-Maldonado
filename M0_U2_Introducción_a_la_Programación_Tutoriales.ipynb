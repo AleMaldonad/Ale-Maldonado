{
  "nbformat": 4,
  "nbformat_minor": 0,
  "metadata": {
    "colab": {
      "name": "M0.U2 Introducción a la Programación - Tutoriales.ipynb",
      "provenance": [],
      "collapsed_sections": [],
      "toc_visible": true
    },
    "kernelspec": {
      "name": "python3",
      "display_name": "Python 3"
    },
    "language_info": {
      "name": "python"
    }
  },
  "cells": [
    {
      "cell_type": "markdown",
      "metadata": {
        "id": "7cUqukj4_P_A"
      },
      "source": [
        "![img](https://drive.google.com/uc?export=view&id=1kgX98Ziw9LzgBCT2BxChttfrTcBltLej)\n"
      ]
    },
    {
      "cell_type": "markdown",
      "metadata": {
        "id": "mgqhxY2yCx6i"
      },
      "source": [
        "# MÓDULO 0. Unidad 2 - Tutoriales\n",
        "\n",
        "---\n",
        "> Tutorial para instalar GIT.\n",
        "\n",
        "> Tutorial para instalar Conda."
      ]
    },
    {
      "cell_type": "markdown",
      "metadata": {
        "id": "CqooSoCxLEjJ"
      },
      "source": [
        "# GIT"
      ]
    },
    {
      "cell_type": "markdown",
      "metadata": {
        "id": "T_l5Pb-cLKu0"
      },
      "source": [
        "Para comenzar a usar Github, Gitlab o Bitbucket lo primero que hay que hacer es descargar GIT:\n",
        "\n",
        "[Link de descarga git (Windows)](http://git-scm.com/download/win)\n",
        "[Link de Descarga Git (Linux/Mac)](https://git-scm.com/downloads)\n",
        "\n",
        "A continuación presentamos un paso a paso para instalar y usar git desde una consola de windows:\n",
        "\n",
        "\n",
        "\n",
        "1.   Ejecutar el archivo descargado\n",
        "2.   Hacemos click en **Next**   \n",
        "<img src=\"https://drive.google.com/uc?export=view&id=1MVn7xfp2mDFPN28JbVBwNQrdGD2gpfkS\" alt=\"GitHub Logo\" />\n",
        "3.   Hacemos click en **Next**   \n",
        "<img src=\"https://drive.google.com/uc?export=view&id=1xvtB-_uyVtjztbcBMzdE3F5OTyYJQY00\" alt=\"GitHub Logo\" />\n",
        "4.   Verificar que este tildado \"git bash here\". Hacemos click en **Next**   \n",
        "<img src=\"https://drive.google.com/uc?export=view&id=1jFirKSCXkftq-bV-foodWb0H8rq6po1s\" alt=\"GitHub Logo\" />\n",
        "5.   Hacemos click en **Next**   \n",
        "<img src=\"https://drive.google.com/uc?export=view&id=1yGEMpFluFUIegHB-_VUU_yW3x0FkS5Uq\" alt=\"GitHub Logo\" />\n",
        "6.   Por default viene Vim como editor, se puede cambiar a gusto. Hacemos click en **Next**   \n",
        "<img src=\"https://drive.google.com/uc?export=view&id=1BFLEFjgZZarDNw_XC5h2j0YckCzSyCxs\" alt=\"GitHub Logo\" />\n",
        "7.   Hacemos click en **Next**   \n",
        "<img src=\"https://drive.google.com/uc?export=view&id=1kTAk1LgmfBhM1n8rlAxXOWLS2fwaUiWh\" alt=\"GitHub Logo\" />\n",
        "8.   Hacemos click en **Next**   \n",
        "<img src=\"https://drive.google.com/uc?export=view&id=1IayIks41YsKmVW7egzShu1yVrjeH4Xy5\" alt=\"GitHub Logo\" />\n",
        "9.   Hacemos click en **Next**   \n",
        "<img src=\"https://drive.google.com/uc?export=view&id=1uyjyyOvQSkmSxsrba-fSF2YM_h04PEiz\" alt=\"GitHub Logo\" />\n",
        "\n",
        "10.   Hacemos click en **Next**   \n",
        "<img src=\"https://drive.google.com/uc?export=view&id=1JUe_2RnNaOJ4PVwpNHJiGlqkIKgNRfl5\" alt=\"GitHub Logo\" />\n",
        "\n",
        "11.   Hacemos click en **Next**   \n",
        "<img src=\"https://drive.google.com/uc?export=view&id=1GzMbDPPPrHMdWqRtvQY0nToBzBO1V-xt\" alt=\"GitHub Logo\" />\n",
        "\n",
        "12.   Hacemos click en **Next**   \n",
        "<img src=\"https://drive.google.com/uc?export=view&id=1yirh5f2l1MjOun6nne2N-Dar_x0kafQI\" alt=\"GitHub Logo\" />\n",
        "\n",
        "13.   Hacemos click en **Next**   \n",
        "<img src=\"https://drive.google.com/uc?export=view&id=1wh7hu-3tB4yqxof07JZdL7BcbWxAcdF3\" alt=\"GitHub Logo\" />\n",
        "\n",
        "14.   Hacemos click en **Next**   \n",
        "<img src=\"https://drive.google.com/uc?export=view&id=10taVT0jfE-39p7TEA9R6C7sCEgPnWx9D\" alt=\"GitHub Logo\" />\n",
        "\n",
        "15.   Hacemos click en **Next**   \n",
        "<img src=\"https://drive.google.com/uc?export=view&id=17lezjXT8tROGCpy2zXvEPPPTjDG5yu5z\" alt=\"GitHub Logo\" />\n",
        "\n",
        "16.   Tildamos \"Launch Git Bash\". Hacemos click en **Install**   \n",
        "<img src=\"https://drive.google.com/uc?export=view&id=1eqA3CxtEAzs0rlq2XHDMqNhnsPdTWMWX\" alt=\"GitHub Logo\" />\n",
        "\n",
        "17. Una vez terminada la instalación se abre una consola. Para verificar que Git se instaló correctamente escribimos lo siguiente: \n",
        "\n",
        "\n",
        "```\n",
        "git --version\n",
        "```\n",
        "\n",
        "\n",
        "<img src=\"https://drive.google.com/uc?export=view&id=1F4-N3iVQBsXU7NZWzKnJ21YintrnBbRg\" alt=\"GitHub Logo\" />\n",
        "\n",
        " \n",
        "\n",
        "> **FELICITACIONES YA TENEMOS GIT**\n",
        "\n",
        "\n",
        "\n",
        "\n",
        "\n"
      ]
    },
    {
      "cell_type": "markdown",
      "metadata": {
        "id": "1VEqqLT6Rone"
      },
      "source": [
        "## ¿Cómo Clonar un Proyecto?\n",
        "\n",
        "A continuación vamos a descargar (clonar) el proyecto de Github en donde va a estar todo el material del Módulo 2 - Unidad 0 - Introducción a la Programación en Python, para la Diplomatura en Ciencia De Datos, Inteligencia Artificial y Sus Aplicaciones En Economía y Negocios de la Universidad Nacional de Córdoba.\n",
        "\n",
        "1.  Ingresamos al link del [repositorio](https://github.com/lbiedma/IntroProgramacionFCEUNC).\n",
        "2.  Click en **Code** y copiamos el link que aparece en https\n",
        "<img src=\"https://drive.google.com/uc?export=view&id=1su2H29cB5ixGu-M3S56hTHAqS62K7Usu\" alt=\"GitHub Logo\" />\n",
        "\n",
        "3.  Abrimos un consola de Windows/Linux/Mac. En windows click derecho y Git Bash Here \n",
        "<img src=\"https://www.logicbig.com/tutorials/misc/git/git-bash-shell/c/images/outputKey3.png\" alt=\"GitHub Logo\" />\n",
        "\n",
        "4. Escribimos en la consola el siguiente comando  \n",
        "\n",
        "```\n",
        "git clone <link al proyecto que copiamos anteriormente>\n",
        "\n",
        "git clone https://github.com/lbiedma/IntroProgramacionFCEUNC.git\n",
        "```\n",
        "   \n",
        "<img src=\"https://drive.google.com/uc?export=view&id=1LIYjpDXxmn9oVya-V6X52qqLXlT6QxU8\" alt=\"GitHub Logo\" />\n",
        "\n",
        "5.  En mi caso, como abri la consola en el Escritorio, descargó el repositorio en el Escritorio. \n",
        "\n",
        "<img src=\"https://drive.google.com/uc?export=view&id=1x2WHCQ2bAxUBcX0szIBPyGRlL02L1PvY\" alt=\"GitHub Logo\" />\n",
        "\n",
        "\n"
      ]
    },
    {
      "cell_type": "markdown",
      "metadata": {
        "id": "w6tQ_vZiSDG4"
      },
      "source": [
        "## ¿Cómo Hacer un Fork de un Proyecto?\n",
        "\n",
        "Cuando hacemos un Fork de un proyecto, lo que estamos haciendo es crear una copia del proyecto en nuestro repositorio. Para ello  es necesario generar un usuario de Github\n",
        "\n",
        "1.   [Link para crear usurio en Github](https://github.com/join?ref_cta=Sign+up&ref_loc=header+logged+out&ref_page=%2F&source=header-home)\n",
        "2.   Una vez loggueado a la cuenta, ingresamos al link del [repositorio](https://github.com/lbiedma/IntroProgramacionFCEUNC) y hacemos click en **FORK**\n",
        "<img src=\"https://drive.google.com/uc?export=view&id=1gy8MuvchcLVpisbWoc9yWfWlN667n5uA\" alt=\"GitHub Logo\" />\n",
        "\n",
        "3. En la esquina superior izquierda vamos a observar que el proyecto original pertenece al usuario lbiedma, y que el usuario solujan hizo un fork.\n",
        "Ahora vamos a seguir el mismo proceso que hicimos anteriormente para clonar\n",
        "<img src=\"https://drive.google.com/uc?export=view&id=1H6yXjwvZ2VSBR3GZHI8EehGLWMh2cHrJ\" alt=\"GitHub Logo\" />\n",
        "\n",
        "Observen que ahora el link contiene su propio nombre, ya que lo que estamos bajando es la copia del proyecto de Luis que tienen en su repositorio.\n",
        "\n",
        "4. Abrimos una consola y escribimos en la consola el siguiente comando  \n",
        "\n",
        "```\n",
        "git clone <link al proyecto que copiamos anteriormente>\n",
        "\n",
        "git clone https://github.com/solujan/IntroProgramacionFCEUNC.git\n",
        "```\n",
        "\n",
        "\n",
        "\n",
        "\n",
        "\n"
      ]
    },
    {
      "cell_type": "markdown",
      "metadata": {
        "id": "l5fwNqm8w-19"
      },
      "source": [
        "# ¿Cómo Instalar Conda?: Paso por Paso"
      ]
    },
    {
      "cell_type": "markdown",
      "metadata": {
        "id": "GwG3eULMxMX7"
      },
      "source": [
        "A continuación presentamos un paso a paso para instalar Conda en Windows\n",
        "\n",
        "1.   Ingresar al [link](https://www.anaconda.com/products/individual#Downloads) y descargar Anaconda de acuerdo al Sistema Operativo que tenga en la computadora.\n",
        "<img src=\"https://drive.google.com/uc?export=view&id=1i8o9WTbCXD-BkxTSzFxLL3qPXCRDQs2y\" alt=\"GitHub Logo\" />\n",
        "\n",
        "2.   Una vez descargado el archivo, hacer doble click para que comience la instalación.\n",
        "\n",
        "3. Click en **Next** \n",
        "\n",
        "<img src=\"https://drive.google.com/uc?export=view&id=1vjOv0S9WeRhd9dm6BF9Ef3Q05-zEE4eb\" alt=\"GitHub Logo\" />\n",
        "\n",
        "4. Aceptamos el acuerdo de la licencia haciendo click en **I Agree** \n",
        "\n",
        "<img src=\"https://drive.google.com/uc?export=view&id=1oltcibYgvsXGt-am2aTRvX6nq34ED9ka\" alt=\"GitHub Logo\" />\n",
        "\n",
        "5. Elegimos para quién va a ser instalado. En mi caso elegí todos los usuarios.\n",
        "\n",
        "<img src=\"https://drive.google.com/uc?export=view&id=1NrQEcZfXdfA3jaDH_CZCcvGzEamHt61N\" alt=\"GitHub Logo\" />\n",
        "\n",
        "6. Probablemente aparezca un pop up de Windows pidiendo autorización. Click en **Si**\n",
        "\n",
        "<img src=\"https://drive.google.com/uc?export=view&id=1BXT_Itt_bKpLBTjXhcxr2ELScEGNfka6\" alt=\"GitHub Logo\" />\n",
        "\n",
        "7. Click en **Install** \n",
        "\n",
        "<img src=\"https://drive.google.com/uc?export=view&id=14CKODoCCsgHUtO1sob8dDdO8ZWCRDqbk\" alt=\"GitHub Logo\" />\n",
        "\n",
        "8. Click en **Next** \n",
        "\n",
        "<img src=\"https://drive.google.com/uc?export=view&id=1K4yeSMrqEox9rEWuuW-rxiU2WGdC1PfA\" alt=\"GitHub Logo\" />\n",
        "\n",
        "9. Click en **Next** \n",
        "\n",
        "<img src=\"https://drive.google.com/uc?export=view&id=15FwP3jjRCLWGskYXT0VEkFudb_CznPCV\" alt=\"GitHub Logo\" />\n",
        "\n",
        "10. Click en **Finish** \n",
        "\n",
        "<img src=\"https://drive.google.com/uc?export=view&id=15IgM2_J1vqFCsBWW7V1KoBIrkuWAxS9Y\" alt=\"GitHub Logo\" />\n",
        "\n",
        "\n",
        "\n",
        "11. Verificamos la instalación. Click en tecla Windows y comenzamos a escribir Anaconda, Seleccionamos la opción **Ejecutar como administrador**\n",
        "\n",
        "<img src=\"https://drive.google.com/uc?export=view&id=1SRdj6axMeN0eCYxIH37i6UXLXBEPobSS\" alt=\"GitHub Logo\" />\n",
        "\n",
        "12. Ejecutamos el siguiente comando para verificar que Conda está instalado \n",
        "\n",
        "```\n",
        "conda --version\n",
        "```\n",
        "\n",
        "<img src=\"https://drive.google.com/uc?export=view&id=1BbuR78J5zN3vd7qOUCaD2ULbczLftHXK\" alt=\"GitHub Logo\" />\n",
        "\n",
        "\n",
        "13. Actualizamos Conda a la última versión disponible, para ello ejecutamos el siguiente comando: \n",
        "\n",
        "```\n",
        "conda update -n base -c defaults conda\n",
        "```\n",
        "<img src=\"https://drive.google.com/uc?export=view&id=1ravqjJpbpVUYgd5ncbPrkR4t4HQliIet\" alt=\"GitHub Logo\" />\n",
        "\n",
        "\n"
      ]
    }
  ]
}